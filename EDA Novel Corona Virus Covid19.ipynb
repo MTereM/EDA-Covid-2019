{
 "cells": [
  {
   "cell_type": "markdown",
   "metadata": {},
   "source": [
    "# <font color='mediumblue'>EDA Novel Corona Virus 2019 Dataset</font>"
   ]
  },
  {
   "cell_type": "markdown",
   "metadata": {},
   "source": [
    "The goal of this simple project is  to do EDA to all the datasets provided by https://www.kaggle.com/sudalairajkumar/novel-corona-virus-2019-dataset, and take some insights regarding data quality and data visualization. This is a work in progress so I will change it frequently, also if you have some positive criticism, just go ahead and share it!"
   ]
  },
  {
   "cell_type": "markdown",
   "metadata": {},
   "source": [
    "**To run this notebook, please click 'run' --> 'run all'**"
   ]
  },
  {
   "cell_type": "markdown",
   "metadata": {},
   "source": [
    "<font color='blue'>Imports</font>"
   ]
  },
  {
   "cell_type": "code",
   "execution_count": null,
   "metadata": {
    "ExecuteTime": {
     "end_time": "2020-03-27T12:00:17.678438Z",
     "start_time": "2020-03-27T12:00:16.631990Z"
    },
    "hide_input": false
   },
   "outputs": [],
   "source": [
    "#General imports\n",
    "import pandas as pd\n",
    "from IPython.core.display import display, HTML\n",
    "# ipyaggrid\n",
    "from ipyaggrid import Grid\n",
    "import datetime"
   ]
  },
  {
   "cell_type": "code",
   "execution_count": null,
   "metadata": {
    "ExecuteTime": {
     "end_time": "2020-03-27T12:00:51.698002Z",
     "start_time": "2020-03-27T12:00:31.797311Z"
    }
   },
   "outputs": [],
   "source": [
    "# visualizations\n",
    "import plotly\n",
    "import plotly.figure_factory as ff\n",
    "plotly.offline.init_notebook_mode()\n",
    "import plotly.graph_objects as go\n",
    "import plotly.express as px\n",
    "import chart_studio.plotly as py\n",
    "from plotly.subplots import make_subplots"
   ]
  },
  {
   "cell_type": "code",
   "execution_count": null,
   "metadata": {
    "ExecuteTime": {
     "end_time": "2020-03-27T12:00:56.959670Z",
     "start_time": "2020-03-27T12:00:56.954682Z"
    }
   },
   "outputs": [],
   "source": [
    "# imports ipywidgets\n",
    "import ipywidgets as widgets\n",
    "from ipywidgets import interact, interact_manual\n",
    "from ipywidgets import Layout\n",
    "from ipywidgets import TwoByTwoLayout"
   ]
  },
  {
   "cell_type": "code",
   "execution_count": null,
   "metadata": {},
   "outputs": [],
   "source": [
    "import os\n",
    "os.environ['KAGGLE_USERNAME'] = 'mteresa'\n",
    "os.environ['KAGGLE_KEY'] = '5c921a8ead65d7cbb3084e9a9e8ef349'\n",
    "#os.environ['KAGGLE_PROXY'] = '<proxy-address>' ## skip this step if you are not working behind a firewall"
   ]
  },
  {
   "cell_type": "code",
   "execution_count": null,
   "metadata": {},
   "outputs": [],
   "source": [
    "import kaggle as kg"
   ]
  },
  {
   "cell_type": "code",
   "execution_count": null,
   "metadata": {},
   "outputs": [],
   "source": [
    "kg.api.authenticate()\n",
    "kg.api.dataset_download_files(dataset=\"sudalairajkumar/novel-corona-virus-2019-dataset\", path = 'gt.zip',unzip=True)"
   ]
  },
  {
   "cell_type": "markdown",
   "metadata": {},
   "source": [
    "<font color='blue'>Get datasets"
   ]
  },
  {
   "cell_type": "code",
   "execution_count": null,
   "metadata": {},
   "outputs": [],
   "source": [
    "covid19_data=pd.read_csv('gt.zip/covid_19_data.csv')\n",
    "covid19_line_list_data = pd.read_csv('gt.zip/COVID19_line_list_data.csv',index_col=0,error_bad_lines=False)\n",
    "time_series_covid19_confirmed= pd.read_csv('gt.zip/time_series_covid_19_confirmed.csv',index_col=0,error_bad_lines=False)\n",
    "time_series_covid19_deaths= pd.read_csv('gt.zip/time_series_covid_19_deaths.csv',index_col=0,error_bad_lines=False)\n",
    "time_series_covid19_recovered= pd.read_csv('gt.zip/time_series_covid_19_recovered.csv',index_col=0,error_bad_lines=False)"
   ]
  },
  {
   "cell_type": "markdown",
   "metadata": {},
   "source": [
    "## <font color='mediumblue'>1. EDA *covid19_data* dataset</font>"
   ]
  },
  {
   "cell_type": "code",
   "execution_count": null,
   "metadata": {
    "ExecuteTime": {
     "end_time": "2020-03-27T12:01:01.556077Z",
     "start_time": "2020-03-27T12:01:01.529150Z"
    }
   },
   "outputs": [],
   "source": [
    "#covid19_data = pd.read_csv('D:/User/ProgramsData/Anaconda2019_10/Data/Corona/covid_19_data.csv',index_col = 0)"
   ]
  },
  {
   "cell_type": "markdown",
   "metadata": {},
   "source": [
    "<font color='mediumblue'>Let's take a quick peek</font>"
   ]
  },
  {
   "cell_type": "code",
   "execution_count": null,
   "metadata": {
    "ExecuteTime": {
     "end_time": "2020-03-27T12:01:05.719489Z",
     "start_time": "2020-03-27T12:01:04.728659Z"
    }
   },
   "outputs": [],
   "source": [
    "covid19_data.tail()"
   ]
  },
  {
   "cell_type": "markdown",
   "metadata": {},
   "source": [
    "`SNo : serial number`"
   ]
  },
  {
   "cell_type": "code",
   "execution_count": null,
   "metadata": {
    "ExecuteTime": {
     "end_time": "2020-03-27T12:01:09.461811Z",
     "start_time": "2020-03-27T12:01:09.454831Z"
    }
   },
   "outputs": [],
   "source": [
    "covid19_data = covid19_data.reset_index()"
   ]
  },
  {
   "cell_type": "code",
   "execution_count": null,
   "metadata": {
    "ExecuteTime": {
     "end_time": "2020-03-27T12:01:12.935139Z",
     "start_time": "2020-03-27T12:01:12.928157Z"
    }
   },
   "outputs": [],
   "source": [
    "# data types\n",
    "covid19_data.dtypes"
   ]
  },
  {
   "cell_type": "markdown",
   "metadata": {},
   "source": [
    "<font color='mediumblue'> Let's change the name of the columns that have a space and/or a not so common symbol in between names (like 'Last Update' and 'Province/State) because sometimes it can cause errors:</font>"
   ]
  },
  {
   "cell_type": "code",
   "execution_count": null,
   "metadata": {},
   "outputs": [],
   "source": [
    "covid19_data.rename(columns={'Last Update':'LastUpdate'},inplace=True)\n",
    "covid19_data.rename(columns={'Province/State':'Province_State'},inplace=True)\n",
    "covid19_data.rename(columns={'Country/Region':'Country_Region'},inplace=True)"
   ]
  },
  {
   "cell_type": "markdown",
   "metadata": {},
   "source": [
    "<font color='mediumblue'>Now let's look at the unique values:</font>"
   ]
  },
  {
   "cell_type": "code",
   "execution_count": null,
   "metadata": {},
   "outputs": [],
   "source": [
    "# calculate unique values for all cols\n",
    "\n",
    "col_names = covid19_data.columns.tolist()\n",
    "lst=[]\n",
    "for i in col_names:\n",
    "    unique =covid19_data[i].unique()\n",
    "    lst.append(pd.Series(data=unique,name=i))"
   ]
  },
  {
   "cell_type": "code",
   "execution_count": null,
   "metadata": {},
   "outputs": [],
   "source": [
    "# Built dataframe\n",
    "\n",
    "lst = pd.DataFrame(lst)\n",
    "\n",
    "lst['Unique_values'] = lst[lst.columns[0:]].apply(lambda x: '___'.join(x.dropna().astype(str)),axis=1)\n",
    "lst = lst[['Unique_values']]\n",
    "lst = pd.DataFrame(lst)\n",
    "#lst = lst.replace({'.0',''},regex=True)\n",
    "\n",
    "lst.index.name='Features'\n",
    "#lst"
   ]
  },
  {
   "cell_type": "code",
   "execution_count": null,
   "metadata": {},
   "outputs": [],
   "source": [
    "columns_defs =[{'field':lst.index.name}] + [{'field':c} for c in lst.columns]\n",
    "\n",
    "grid_options = {'columnDefs': columns_defs,\n",
    "               'enableSorting': True,\n",
    "               'enableFilter' :True,\n",
    "               'enableColResize': True,\n",
    "               'enableRangeSelection':True,'enableValue': True,\n",
    "                'statusBar': {\n",
    "        'statusPanels': [\n",
    "            { 'statusPanel': 'agTotalAndFilteredRowCountComponent', 'align': 'left' },\n",
    "            { 'statusPanel': 'agTotalRowCountComponent', 'align': 'center' },\n",
    "            { 'statusPanel': 'agFilteredRowCountComponent' },\n",
    "            { 'statusPanel': 'agSelectedRowCountComponent' },\n",
    "            { 'statusPanel': 'agAggregationComponent' }\n",
    "        ]\n",
    "    }\n",
    "               }\n",
    "\n",
    "\n",
    "g = Grid(grid_data = lst,\n",
    "        theme = 'ag-theme-fresh',\n",
    "        quick_filter = True,\n",
    "        show_toggle_delete = False,\n",
    "        show_toggle_edit = False,\n",
    "        grid_options = grid_options,\n",
    "        index = True,\n",
    "        width=1000,\n",
    "        height=300,\n",
    "        center = False,columns_fit='auto' \n",
    "        )\n",
    "\n",
    "g"
   ]
  },
  {
   "cell_type": "markdown",
   "metadata": {
    "ExecuteTime": {
     "end_time": "2020-03-27T12:01:16.474536Z",
     "start_time": "2020-03-27T12:01:16.465604Z"
    }
   },
   "source": [
    "<font color='mediumblue'> Taking a closer look to the date columns, I see that `ObservationDate` has a date called 'alia', and `LastUpdate` has a date of the format '2/1/20201/31/2020 23:59'"
   ]
  },
  {
   "cell_type": "markdown",
   "metadata": {},
   "source": [
    "<font color='mediumblue'>Pass date columns to right format, and replace bad entries with nan:</font>"
   ]
  },
  {
   "cell_type": "code",
   "execution_count": null,
   "metadata": {},
   "outputs": [],
   "source": [
    "#covid19_data[covid19_data['LastUpdate']=='2/1/20201/31/2020 23:59']"
   ]
  },
  {
   "cell_type": "code",
   "execution_count": null,
   "metadata": {
    "ExecuteTime": {
     "end_time": "2020-03-27T12:01:18.774142Z",
     "start_time": "2020-03-27T12:01:18.633311Z"
    }
   },
   "outputs": [],
   "source": [
    "covid19_data['ObservationDate'] = pd.to_datetime(covid19_data['ObservationDate'],errors='coerce')\n",
    "covid19_data['LastUpdate'] = pd.to_datetime(covid19_data['LastUpdate'],errors='coerce')"
   ]
  },
  {
   "cell_type": "code",
   "execution_count": null,
   "metadata": {
    "ExecuteTime": {
     "end_time": "2020-03-27T12:01:19.715621Z",
     "start_time": "2020-03-27T12:01:19.707642Z"
    }
   },
   "outputs": [],
   "source": [
    "# confirm\n",
    "covid19_data.dtypes"
   ]
  },
  {
   "cell_type": "code",
   "execution_count": null,
   "metadata": {
    "ExecuteTime": {
     "end_time": "2020-03-27T12:01:25.331954Z",
     "start_time": "2020-03-27T12:01:25.327961Z"
    }
   },
   "outputs": [],
   "source": [
    "# shape of data\n",
    "print('Covid19_data number of rows:', covid19_data.shape[0])\n",
    "print('Covid19_data number of columns:',covid19_data.shape[1])"
   ]
  },
  {
   "cell_type": "code",
   "execution_count": null,
   "metadata": {
    "ExecuteTime": {
     "end_time": "2020-03-27T12:01:28.628464Z",
     "start_time": "2020-03-27T12:01:27.273718Z"
    }
   },
   "outputs": [],
   "source": [
    "# missing values\n",
    "missing = covid19_data.isnull().sum()\n",
    "missing_perc = (100*(missing/len(covid19_data))).round(3)\n",
    "missing_values = pd.DataFrame({'missing_values':missing, 'missing_values_%':missing_perc})\n",
    "missing_values"
   ]
  },
  {
   "cell_type": "markdown",
   "metadata": {},
   "source": [
    "<font color='mediumblue'>Great majority of missing values for `Province/State` because not all countries have a province/state</font>"
   ]
  },
  {
   "cell_type": "code",
   "execution_count": null,
   "metadata": {
    "ExecuteTime": {
     "end_time": "2020-03-27T12:01:42.260383Z",
     "start_time": "2020-03-27T12:01:42.253402Z"
    }
   },
   "outputs": [],
   "source": [
    "# Timespan\n",
    "print('Start observation date:', covid19_data.ObservationDate.min())\n",
    "print('End observation Date:', covid19_data.ObservationDate.max())"
   ]
  },
  {
   "cell_type": "markdown",
   "metadata": {},
   "source": [
    "<font color='mediumblue'>Calculate `ActiveCases = Confirmed - Recovered - Deaths` (cases without the outcome of either deaths or recovery)</font>\n",
    "<br>\n",
    "**source:** https://towardsdatascience.com/analyzing-coronavirus-covid-19-data-using-pandas-and-plotly-2e34fe2c4edc"
   ]
  },
  {
   "cell_type": "code",
   "execution_count": null,
   "metadata": {
    "ExecuteTime": {
     "end_time": "2020-03-27T12:01:49.528750Z",
     "start_time": "2020-03-27T12:01:49.521770Z"
    }
   },
   "outputs": [],
   "source": [
    "covid19_data['ActiveCases'] = covid19_data['Confirmed'] - covid19_data['Recovered'] - covid19_data['Deaths']"
   ]
  },
  {
   "cell_type": "markdown",
   "metadata": {},
   "source": [
    "<font color='mediumblue'>Take a quick peek:</font>"
   ]
  },
  {
   "cell_type": "code",
   "execution_count": null,
   "metadata": {
    "ExecuteTime": {
     "end_time": "2020-03-27T14:02:57.711190Z",
     "start_time": "2020-03-27T14:02:57.239412Z"
    },
    "hide_input": false
   },
   "outputs": [],
   "source": [
    "columns_defs = [{'field':c} for c in covid19_data.columns]\n",
    "\n",
    "grid_options = {'columnDefs': columns_defs,\n",
    "               'enableSorting': True,\n",
    "               'enableFilter' :True,\n",
    "               'enableColResize': True,\n",
    "               'enableRangeSelection':True,'enableValue': True,\n",
    "                'statusBar': {\n",
    "        'statusPanels': [\n",
    "            { 'statusPanel': 'agTotalAndFilteredRowCountComponent', 'align': 'left' },\n",
    "            { 'statusPanel': 'agTotalRowCountComponent', 'align': 'center' },\n",
    "            { 'statusPanel': 'agFilteredRowCountComponent' },\n",
    "            { 'statusPanel': 'agSelectedRowCountComponent' },\n",
    "            { 'statusPanel': 'agAggregationComponent' }\n",
    "        ]\n",
    "    }\n",
    "               }\n",
    "buttons = [{'name':'Table 1. Covid19_data'}]\n",
    "g = Grid(grid_data = covid19_data,\n",
    "        theme = 'ag-theme-fresh',\n",
    "        quick_filter = True,\n",
    "        show_toggle_delete = False,\n",
    "        show_toggle_edit = False,\n",
    "        grid_options = grid_options,\n",
    "        index = True,\n",
    "        width=1000,\n",
    "        height=500,\n",
    "        center = False,\n",
    "        menu = {'buttons':buttons},columns_fit='auto'\n",
    "        )\n",
    "\n",
    "g"
   ]
  },
  {
   "cell_type": "markdown",
   "metadata": {},
   "source": [
    "<font color='mediumblue'>Now I want to analyze data per country. Because we have a column with Province_State, we will end up with several duplicates for the `ObservationDate`. Therefore the next analysis will not include the provinces but the values of the columns for each country will be the total sum, meaning that the provinces values are included.</font>"
   ]
  },
  {
   "cell_type": "code",
   "execution_count": null,
   "metadata": {
    "ExecuteTime": {
     "end_time": "2020-03-27T12:01:51.196826Z",
     "start_time": "2020-03-27T12:01:51.110775Z"
    }
   },
   "outputs": [],
   "source": [
    "covid19_data_no_province= covid19_data.copy()\n",
    "covid19_data_no_province = covid19_data_no_province.drop(['Province_State','LastUpdate'],axis=1)\n",
    "covid19_data_no_province = covid19_data_no_province.groupby(['Country_Region','ObservationDate']).sum().reset_index()\n",
    "covid19_data_no_province = covid19_data_no_province.sort_values(by=['Country_Region', 'ObservationDate', 'Confirmed'])\n",
    "# create column with new cases per day\n",
    "covid19_data_no_province['NewCasesPerDay'] = covid19_data_no_province.groupby(['Country_Region'])['Confirmed'].diff().fillna(covid19_data_no_province['Confirmed'])\n"
   ]
  },
  {
   "cell_type": "markdown",
   "metadata": {
    "ExecuteTime": {
     "end_time": "2020-03-26T13:51:42.675170Z",
     "start_time": "2020-03-26T13:51:42.671181Z"
    }
   },
   "source": [
    "<font color='mediumblue'>Let's take a quick look at the dataset:</font>"
   ]
  },
  {
   "cell_type": "code",
   "execution_count": null,
   "metadata": {
    "ExecuteTime": {
     "end_time": "2020-03-27T14:26:20.119288Z",
     "start_time": "2020-03-27T14:26:19.879930Z"
    },
    "hide_input": false
   },
   "outputs": [],
   "source": [
    "columns_defs = [{'field':c} for c in covid19_data_no_province.columns]\n",
    "\n",
    "grid_options = {'columnDefs': columns_defs,\n",
    "               'enableSorting': True,\n",
    "               'enableFilter' :True,\n",
    "               'enableColResize': True,\n",
    "               'enableRangeSelection':True,'enableValue': True,\n",
    "                'statusBar': {\n",
    "        'statusPanels': [\n",
    "            { 'statusPanel': 'agTotalAndFilteredRowCountComponent', 'align': 'left' },\n",
    "            { 'statusPanel': 'agTotalRowCountComponent', 'align': 'center' },\n",
    "            { 'statusPanel': 'agFilteredRowCountComponent' },\n",
    "            { 'statusPanel': 'agSelectedRowCountComponent' },\n",
    "            { 'statusPanel': 'agAggregationComponent' }\n",
    "        ]\n",
    "    }\n",
    "               }\n",
    "\n",
    "buttons = [\n",
    "{'name':'Table2. Covid19_data excluding Provinces_State'}]\n",
    "\n",
    "g = Grid(grid_data = covid19_data_no_province,\n",
    "        theme = 'ag-theme-fresh',\n",
    "        quick_filter = True,\n",
    "        show_toggle_delete = False,\n",
    "        show_toggle_edit = False,\n",
    "        grid_options = grid_options,\n",
    "        index = True,\n",
    "        width=1000,\n",
    "        height=500,\n",
    "        center = False, \n",
    "        menu = {'buttons':buttons},columns_fit='auto'\n",
    "        )\n",
    "\n",
    "g\n"
   ]
  },
  {
   "cell_type": "markdown",
   "metadata": {},
   "source": [
    "<font color='mediumblue'>Now let's look at the Confirmed, Deaths and Recovered per country:</font> "
   ]
  },
  {
   "cell_type": "code",
   "execution_count": null,
   "metadata": {
    "ExecuteTime": {
     "end_time": "2020-03-27T16:12:27.100887Z",
     "start_time": "2020-03-27T16:12:26.383765Z"
    },
    "hide_input": false
   },
   "outputs": [],
   "source": [
    "\n",
    "covid19_data_grouped = covid19_data_no_province.groupby(['Country_Region'],as_index=False)['Confirmed','Deaths','Recovered','ActiveCases','NewCasesPerDay'].agg(lambda x:x.max())\n",
    "covid19_data_grouped.nlargest(15,'Confirmed') # for the second plot\n",
    "#covid19_data_grouped['ObservationDate'] = pd.to_datetime(covid19_data_grouped['ObservationDate'])\n",
    "\n",
    "plot_output_w = widgets.Output()\n",
    "test = widgets.Output()\n",
    "\n",
    "countries = ['All'] + sorted(covid19_data_grouped.Country_Region.unique().tolist())\n",
    "columns_drop = widgets.Dropdown(options=countries,description='Select a Country',layout={'width': 'max-content'},style={'description_width': 'initial'})\n",
    "\n",
    "display(columns_drop)\n",
    "#display(plot_output)\n",
    "\n",
    "def plot_country(country=''):\n",
    "    df = covid19_data_grouped.copy()\n",
    "    if columns_drop.value == 'All':\n",
    "        df1 = df\n",
    "        \n",
    "    else:\n",
    "        df1 = df[df['Country_Region']==columns_drop.value]\n",
    "        \n",
    "    #fig = go.Figure()\n",
    "    fig=make_subplots(rows=2,cols=1,subplot_titles=['Confirmed, Deaths and Recovered cases per country (22-Jan-2020 until 26-Mar-2020)',\n",
    "                                                    'Top 15 countries most affected by Covid19 (22-Jan-2020 until 26-Mar-2020)'],vertical_spacing=0.5)\n",
    "    x = df1['Country_Region']\n",
    "    fig.add_trace(go.Bar(name='Confirmed',x=x,y=df1.Confirmed,text=df1.Confirmed,textposition='auto',marker_color='blue'),row=1,col=1)\n",
    "    fig.add_trace(go.Bar(name='Deaths',x=x,y=df1.Deaths,text=df1.Deaths,textposition='auto',marker_color='red'),row=1,col=1)\n",
    "    fig.add_trace(go.Bar(name='Recovered',x=x,y=df1.Recovered,text=df1.Recovered,textposition='auto',marker_color='green'),row=1,col=1)\n",
    "    fig.add_trace(go.Bar(name='ActiveCases',x=x,y=df1.ActiveCases,text=df1.ActiveCases,textposition='auto',marker_color='orange'),row=1,col=1)\n",
    "    fig.update_layout(barmode='group',xaxis_type='category',template='simple_white')\n",
    "    #fig.update_xaxes(title_text='Country')\n",
    "    fig.update_yaxes(title_text='Number of cases')\n",
    "    #fig.show()   \n",
    "    \n",
    "    # added for the second plot. If I want only the first plot, just delete between #\n",
    "    #\n",
    "    top = covid19_data_grouped.nlargest(15,'Confirmed')\n",
    "    x1 = top['Country_Region']\n",
    "    fig.add_trace(go.Bar(name='Confirmed',x=x1,y=top.Confirmed,text=top.Confirmed,textposition='auto',showlegend=False,marker_color='blue'),row=2,col=1)\n",
    "    fig.add_trace(go.Bar(name='Deaths',x=x1,y=top.Deaths,text=top.Deaths,textposition='auto',showlegend=False,marker_color='red'),row=2,col=1)\n",
    "    fig.add_trace(go.Bar(name='Recovered',x=x1,y=top.Recovered,text=top.Recovered,textposition='auto',showlegend=False,marker_color='green'),row=2,col=1)\n",
    "    fig.add_trace(go.Bar(name='ActiveCases',x=x1,y=top.ActiveCases,text=top.ActiveCases,textposition='auto',showlegend=False,marker_color='orange'),row=2,col=1)\n",
    "    fig.update_layout(barmode='group',xaxis_type='category',template='simple_white')\n",
    "    fig.show()\n",
    "    #\n",
    "interactive_plot = widgets.interactive_output(plot_country,{'country':columns_drop})\n",
    "display(interactive_plot)"
   ]
  },
  {
   "cell_type": "code",
   "execution_count": null,
   "metadata": {
    "ExecuteTime": {
     "end_time": "2020-03-27T16:13:23.866747Z",
     "start_time": "2020-03-27T16:13:20.970453Z"
    },
    "hide_input": false
   },
   "outputs": [],
   "source": [
    "covid19_data_grouped_date = covid19_data_no_province.groupby(['Country_Region','ObservationDate'],as_index=False)['Confirmed','Deaths','Recovered','ActiveCases','NewCasesPerDay'].agg(lambda x:x.sum())\n",
    "countries = ['All'] + sorted(covid19_data_grouped_date.Country_Region.unique().tolist())\n",
    "columns_drop = widgets.Dropdown(options=countries,description='Select a Country',layout={'width': 'max-content'},style={'description_width': 'initial'})\n",
    "display(columns_drop)\n",
    "\n",
    "def time_series(countries):\n",
    "    df = covid19_data_grouped_date.copy()\n",
    "    if columns_drop.value == 'All':\n",
    "        #df1 = df\n",
    "        df1 = covid19_data_grouped_date.groupby('ObservationDate').sum().reset_index()\n",
    "    else:\n",
    "        df1 = df[df['Country_Region']==columns_drop.value]\n",
    "        \n",
    "    fig=make_subplots(rows=3,cols=2,subplot_titles=['Confirmed cases','Deaths','Recovered','Active cases','New cases per 24h'],vertical_spacing=0.2,column_widths=[0.5, 0.5])\n",
    "    \n",
    "    x = df1['ObservationDate'].dt.date\n",
    "    fig.add_trace(go.Scatter(x=x,y=df1['Confirmed'],showlegend=False,mode='markers + lines',marker_color='blue'),row=1,col=1)\n",
    "    fig.add_trace(go.Scatter(x=x,y=df1['Deaths'],showlegend=False,mode='markers + lines',marker_color = 'red'),row=1,col=2)\n",
    "    fig.add_trace(go.Scatter(x=x,y=df1['Recovered'],showlegend=False,mode='markers + lines',marker_color='green'),row=2,col=1)\n",
    "    fig.add_trace(go.Scatter(x=x,y=df1['ActiveCases'],showlegend=False,mode='markers + lines',marker_color='orange'),row=2,col=2) \n",
    "    fig.add_trace(go.Scatter(x=x,y=df1['NewCasesPerDay'],showlegend=False,mode='markers + lines',marker_color='magenta'),row=3,col=1)    \n",
    "    fig.update_layout(template='simple_white',height=800, width=1500)\n",
    "    fig.update_xaxes(title_text='Date')\n",
    "    fig.update_yaxes(title_text='Number of cases')\n",
    "    fig.show()\n",
    "    \n",
    "interactive_plot = widgets.interactive_output(time_series,{'countries':columns_drop})\n",
    "display(interactive_plot)     \n",
    "        \n"
   ]
  },
  {
   "cell_type": "markdown",
   "metadata": {},
   "source": [
    "<font color='mediumblue'>Let's bring bak the provinces:</font>"
   ]
  },
  {
   "cell_type": "code",
   "execution_count": null,
   "metadata": {
    "ExecuteTime": {
     "end_time": "2020-03-27T12:47:49.155985Z",
     "start_time": "2020-03-27T12:47:49.151000Z"
    }
   },
   "outputs": [],
   "source": [
    "covid19_data_provinces = covid19_data.copy()"
   ]
  },
  {
   "cell_type": "code",
   "execution_count": null,
   "metadata": {
    "ExecuteTime": {
     "end_time": "2020-03-27T12:47:50.598804Z",
     "start_time": "2020-03-27T12:47:50.589788Z"
    }
   },
   "outputs": [],
   "source": [
    "# not all countries have provinces or states\n",
    "covid19_data_provinces = covid19_data_provinces[covid19_data_provinces['Province_State'].notna()]"
   ]
  },
  {
   "cell_type": "code",
   "execution_count": null,
   "metadata": {
    "ExecuteTime": {
     "end_time": "2020-03-27T12:47:52.520627Z",
     "start_time": "2020-03-27T12:47:52.430865Z"
    }
   },
   "outputs": [],
   "source": [
    "# calculate again new cases per 24 h\n",
    "covid19_data_provinces = covid19_data_provinces.groupby(['Country_Region','Province_State','ObservationDate']).sum().reset_index()\n",
    "# create column with new cases per day\n",
    "covid19_data_provinces['NewCasesPerDay'] = covid19_data_provinces.groupby(['Country_Region','Province_State'])['Confirmed'].diff().fillna(covid19_data_provinces['Confirmed'])"
   ]
  },
  {
   "cell_type": "code",
   "execution_count": null,
   "metadata": {
    "ExecuteTime": {
     "end_time": "2020-03-27T14:25:17.468089Z",
     "start_time": "2020-03-27T14:25:17.197821Z"
    },
    "hide_input": false
   },
   "outputs": [],
   "source": [
    "columns_defs = [{'field':c} for c in covid19_data_provinces.columns]\n",
    "\n",
    "grid_options = {'columnDefs': columns_defs,\n",
    "               'enableSorting': True,\n",
    "               'enableFilter' :True,\n",
    "               'enableColResize': True,\n",
    "               'enableRangeSelection':True,'enableValue': True,\n",
    "                'statusBar': {\n",
    "        'statusPanels': [\n",
    "            { 'statusPanel': 'agTotalAndFilteredRowCountComponent', 'align': 'left' },\n",
    "            { 'statusPanel': 'agTotalRowCountComponent', 'align': 'center' },\n",
    "            { 'statusPanel': 'agFilteredRowCountComponent' },\n",
    "            { 'statusPanel': 'agSelectedRowCountComponent' },\n",
    "            { 'statusPanel': 'agAggregationComponent' }\n",
    "        ]\n",
    "    }\n",
    "               }\n",
    "\n",
    "buttons = [\n",
    "{'name':'Table3. Covid19_data including Provinces_State and excluding countries without Province_State'}]\n",
    "\n",
    "g = Grid(grid_data = covid19_data_provinces,\n",
    "        theme = 'ag-theme-fresh',\n",
    "        quick_filter = True,\n",
    "        show_toggle_delete = False,\n",
    "        show_toggle_edit = False,\n",
    "        grid_options = grid_options,\n",
    "        index = True,\n",
    "        width=1000,\n",
    "        height=500,\n",
    "        center = False, \n",
    "        menu = {'buttons':buttons},columns_fit='auto'\n",
    "        )\n",
    "\n",
    "g"
   ]
  },
  {
   "cell_type": "markdown",
   "metadata": {},
   "source": [
    "<font color='mediumblue'>In this case the `NewCasesPerDay` has negative values (you can filter it for values less than zero in the above table, Table3.), which appears to be the result of some of the Provinces not having a cumulative sum. The worst case is for French Polynesia, which has a value of `Confirmed` = 15 on 2020-03-22, in the next day the confirmed cases is 19874, and on 2020-03-24, decreases to 25 (again you can filter dates and provinces in Table1 which has all data). The countries affected by this issue are: Australia (From Diamond Princess, Northern Territory, Queensland), Canada (Alberta), France (French Guiana, French Polynesia, Guadeloupe, Mayotte, Reunion), Mainland China (Guizhou), Others (Diamond Princess cruise ship), US (Fairfield County, Grand Princess, Lackland, Nevada, NY, Omaha, Rockingham, Travis, Utah and Washington), making a total of 25 rows of negative new cases of covid19 per day. I will just include everything in the next visualizations, and see if I can see something more.\n",
    "<br>\n",
    "Also there is a bad entry for `Country_Region` and `Province_State`, so let's drop it:</font>"
   ]
  },
  {
   "cell_type": "code",
   "execution_count": null,
   "metadata": {},
   "outputs": [],
   "source": [
    "#covid19_data_provinces[covid19_data_provinces['Country_Region']=='1.0']"
   ]
  },
  {
   "cell_type": "code",
   "execution_count": null,
   "metadata": {},
   "outputs": [],
   "source": [
    "#covid19_data_provinces = covid19_data_provinces.drop(0,axis=0)"
   ]
  },
  {
   "cell_type": "code",
   "execution_count": null,
   "metadata": {
    "ExecuteTime": {
     "end_time": "2020-03-27T16:15:27.123079Z",
     "start_time": "2020-03-27T16:15:26.414973Z"
    },
    "hide_input": false
   },
   "outputs": [],
   "source": [
    "covid19_data_grouped = covid19_data_provinces.groupby(['Country_Region','Province_State'],as_index=False)['Confirmed','Deaths','Recovered','ActiveCases','NewCasesPerDay'].agg(lambda x:x.max())\n",
    "covid19_data_grouped.nlargest(15,'Confirmed') # for the second plot\n",
    "#covid19_data_grouped['ObservationDate'] = pd.to_datetime(covid19_data_grouped['ObservationDate'])\n",
    "\n",
    "plot_output_w = widgets.Output()\n",
    "test = widgets.Output()\n",
    "\n",
    "countries = sorted(covid19_data_grouped.Country_Region.unique().tolist())\n",
    "provinces = sorted(covid19_data_grouped.Province_State.unique().tolist())\n",
    "columns_drop = widgets.Dropdown(options=countries,description='Select a Country',layout={'width': 'max-content'},style={'description_width': 'initial'})\n",
    "#province_drop = widgets.Dropdown(options=provinces,description='Select a Province',layout={'width': 'max-content'},style={'description_width': 'initial'})\n",
    "#hbox = widgets.HBox([columns_drop,province_drop])\n",
    "#display(hbox)\n",
    "\n",
    "display(columns_drop)\n",
    "#display(plot_output)\n",
    "\n",
    "def plot_country(country='',provinces=''):\n",
    "    df = covid19_data_grouped.copy()\n",
    "    #df1 = df[df[(df['Country_Region']==columns_drop.value)&(df['Province_State']==province_drop.value)]]\n",
    "    df1 = df[df['Country_Region']==columns_drop.value]\n",
    "    #df1 = df[df['Province_State']==province_drop.value]\n",
    "        \n",
    "    fig = go.Figure()\n",
    "    x = df1['Province_State']\n",
    "    fig.add_trace(go.Bar(name='Confirmed',x=x,y=df1.Confirmed,text=df1.Confirmed,textposition='auto',marker_color='blue'))\n",
    "    fig.add_trace(go.Bar(name='Deaths',x=x,y=df1.Deaths,text=df1.Deaths,textposition='auto',marker_color='red'))\n",
    "    fig.add_trace(go.Bar(name='Recovered',x=x,y=df1.Recovered,text=df1.Recovered,textposition='auto',marker_color='green'))\n",
    "    fig.add_trace(go.Bar(name='ActiveCases',x=x,y=df1.ActiveCases,text=df1.ActiveCases,textposition='auto',marker_color='orange'))\n",
    "    fig.update_layout(barmode='group',xaxis_type='category',template='simple_white',height=700)\n",
    "    fig.update_xaxes(title_text='Province_State')\n",
    "    fig.update_yaxes(title_text='Number of cases')\n",
    "    fig.show()   \n",
    "    \n",
    "interactive_plot = widgets.interactive_output(plot_country,{'country':columns_drop})\n",
    "display(interactive_plot)"
   ]
  },
  {
   "cell_type": "markdown",
   "metadata": {},
   "source": [
    "<font color='mediumblue'>Insights:\n",
    " - `Australia`: Diamond Princess cruise ship and From Diamond Princess are the same?\n",
    " - `Austria`: has 'None' as province with values\n",
    " - `Denmark`: has also Denmark in Provinces_State\n",
    " - `Iraq`: has 'None' as province with no values\n",
    " - `Israel`: has 'From Diamond Princess` as province. Is this the cruise?\n",
    " - `Lebanon`: has 'None' as province with values\n",
    " - `UK` : has 'UK' and 'United Kingdom' as provinces. Are they not the same?\n",
    " - Other countries have the countries as provinces.\n",
    "    \n",
    "So some cleaning to do in this part!</font>\n",
    "    "
   ]
  },
  {
   "cell_type": "markdown",
   "metadata": {},
   "source": [
    "<font color='mediumblue'>Main Insights covid19:\n",
    "- `Australia`: Most cases are from 'New South Wales'\n",
    "- `Canada`: Most of the cases are from 'Quebec'\n",
    "- `France`: According to the data, 'French Polynesia' has more cases of covid19 than France...\n",
    "- `Mainland China`: As expected, the great majority of the covid19 are in 'Hubei'\n",
    "- `US`: Great majority of the cases are in New York."
   ]
  },
  {
   "cell_type": "markdown",
   "metadata": {},
   "source": [
    "## <font color='Blue'>2. EDA *covid19_line_list_data* dataset</font>"
   ]
  },
  {
   "cell_type": "code",
   "execution_count": null,
   "metadata": {
    "ExecuteTime": {
     "end_time": "2020-03-27T16:02:33.881263Z",
     "start_time": "2020-03-27T16:02:33.860278Z"
    }
   },
   "outputs": [],
   "source": [
    "#covid19_line_list_data = pd.read_csv('gt.zip/COVID19_line_list_data.csv',index_col=0,error_bad_lines=False)"
   ]
  },
  {
   "cell_type": "code",
   "execution_count": null,
   "metadata": {
    "ExecuteTime": {
     "end_time": "2020-03-27T16:02:35.462012Z",
     "start_time": "2020-03-27T16:02:35.434069Z"
    }
   },
   "outputs": [],
   "source": [
    "covid19_line_list_data.head(3)"
   ]
  },
  {
   "cell_type": "code",
   "execution_count": null,
   "metadata": {
    "ExecuteTime": {
     "end_time": "2020-03-27T16:02:36.971960Z",
     "start_time": "2020-03-27T16:02:36.955999Z"
    }
   },
   "outputs": [],
   "source": [
    "# missing values\n",
    "\n",
    "missing = covid19_line_list_data.isnull().sum()\n",
    "missing_perc = (100*(missing/len(covid19_line_list_data))).round(1)\n",
    "missing_values = pd.DataFrame({'missing_values':missing, 'missing_values_%':missing_perc})\n",
    "missing_values\n"
   ]
  },
  {
   "cell_type": "markdown",
   "metadata": {},
   "source": [
    "<font color='mediumblue'> Let's drop  the cols that have 100% of missing values and leave the others as they are (for now).</font>"
   ]
  },
  {
   "cell_type": "code",
   "execution_count": null,
   "metadata": {
    "ExecuteTime": {
     "end_time": "2020-03-27T16:02:39.125200Z",
     "start_time": "2020-03-27T16:02:39.119228Z"
    }
   },
   "outputs": [],
   "source": [
    "# drop cols with 100% of missing values.\n",
    "covid19_line_list_data = covid19_line_list_data.drop(['Unnamed: 3','link','Unnamed: 21','Unnamed: 22','Unnamed: 23',\n",
    "                                                     'Unnamed: 24','Unnamed: 25','Unnamed: 26'],axis=1)"
   ]
  },
  {
   "cell_type": "code",
   "execution_count": null,
   "metadata": {
    "ExecuteTime": {
     "end_time": "2020-03-27T16:02:43.479354Z",
     "start_time": "2020-03-27T16:02:43.377627Z"
    },
    "hide_input": false
   },
   "outputs": [],
   "source": [
    "columns_defs = [{'field':c} for c in covid19_line_list_data.columns]\n",
    "\n",
    "grid_options = {'columnDefs': columns_defs,\n",
    "               'enableSorting': True,\n",
    "               'enableFilter' :True,\n",
    "               'enableColResize': True,\n",
    "               'enableRangeSelection':True,'enableValue': True,\n",
    "                'statusBar': {\n",
    "        'statusPanels': [\n",
    "            { 'statusPanel': 'agTotalAndFilteredRowCountComponent', 'align': 'left' },\n",
    "            { 'statusPanel': 'agTotalRowCountComponent', 'align': 'center' },\n",
    "            { 'statusPanel': 'agFilteredRowCountComponent' },\n",
    "            { 'statusPanel': 'agSelectedRowCountComponent' },\n",
    "            { 'statusPanel': 'agAggregationComponent' }\n",
    "        ]\n",
    "    }\n",
    "               }\n",
    "\n",
    "g = Grid(grid_data = covid19_line_list_data,\n",
    "        theme = 'ag-theme-fresh',\n",
    "        quick_filter = True,\n",
    "        show_toggle_delete = False,\n",
    "        show_toggle_edit = False,\n",
    "        grid_options = grid_options,\n",
    "        index = True,\n",
    "        width=1000,\n",
    "        height=500,\n",
    "        center = False,\n",
    "        )\n",
    "\n",
    "g"
   ]
  },
  {
   "cell_type": "code",
   "execution_count": null,
   "metadata": {
    "ExecuteTime": {
     "end_time": "2020-03-27T16:02:58.260381Z",
     "start_time": "2020-03-27T16:02:58.253403Z"
    }
   },
   "outputs": [],
   "source": [
    "covid19_line_list_data.dtypes"
   ]
  },
  {
   "cell_type": "markdown",
   "metadata": {},
   "source": [
    "<font color='mediumblue'> I am going to change the name of the columns that have a space in between names (like 'reporting date') because sometimes it can cause errors:</font>"
   ]
  },
  {
   "cell_type": "code",
   "execution_count": null,
   "metadata": {
    "ExecuteTime": {
     "end_time": "2020-03-27T16:03:00.896390Z",
     "start_time": "2020-03-27T16:03:00.887375Z"
    }
   },
   "outputs": [],
   "source": [
    "# change name columns\n",
    "covid19_line_list_data.rename(columns={'reporting date':'ReportingDate'},inplace=True)\n",
    "covid19_line_list_data.rename(columns={'visiting Wuhan':'visiting_Wuhan'},inplace=True)\n",
    "covid19_line_list_data.rename(columns={'from Wuhan':'from_Wuhan'},inplace=True)\n"
   ]
  },
  {
   "cell_type": "markdown",
   "metadata": {},
   "source": [
    "<font color='mediumblue'> Now let's change the date columns (which are as object) to datetime:</font>"
   ]
  },
  {
   "cell_type": "code",
   "execution_count": null,
   "metadata": {
    "ExecuteTime": {
     "end_time": "2020-03-27T16:03:04.100450Z",
     "start_time": "2020-03-27T16:03:04.057526Z"
    }
   },
   "outputs": [],
   "source": [
    "# change to datetime\n",
    "covid19_line_list_data['ReportingDate'] = pd.to_datetime(covid19_line_list_data['ReportingDate'])\n",
    "covid19_line_list_data['symptom_onset'] = pd.to_datetime(covid19_line_list_data['symptom_onset'])\n",
    "covid19_line_list_data['hosp_visit_date'] = pd.to_datetime(covid19_line_list_data['hosp_visit_date'])\n",
    "covid19_line_list_data['exposure_start'] = pd.to_datetime(covid19_line_list_data['exposure_start'])\n",
    "covid19_line_list_data['exposure_end'] = pd.to_datetime(covid19_line_list_data['exposure_end'])\n"
   ]
  },
  {
   "cell_type": "markdown",
   "metadata": {},
   "source": [
    "<font color='mediumblue'>Although the column `recovered` appears to be a date type variable, the following line of code keeps on getting an error:\n",
    "```\n",
    "    covid19_line_list_data['recovered'] = pd.to_datetime(covid19_line_list_data['recovered'])\n",
    "```\n",
    "<font color='mediumblue'>So let's see what's going on:</font>"
   ]
  },
  {
   "cell_type": "code",
   "execution_count": null,
   "metadata": {
    "ExecuteTime": {
     "end_time": "2020-03-27T16:03:08.117252Z",
     "start_time": "2020-03-27T16:03:08.109275Z"
    }
   },
   "outputs": [],
   "source": [
    "covid19_line_list_data['recovered'].value_counts()"
   ]
  },
  {
   "cell_type": "markdown",
   "metadata": {},
   "source": [
    "<font color='mediumblue'>There are mixed dtypes in the `recovery` column, but it appears that '0' is the most common value, so maybe this is a binary feature. Also, the column `death` should not be object, so let's see what's going on:</font>"
   ]
  },
  {
   "cell_type": "code",
   "execution_count": null,
   "metadata": {
    "ExecuteTime": {
     "end_time": "2020-03-27T16:03:27.870970Z",
     "start_time": "2020-03-27T16:03:27.862989Z"
    }
   },
   "outputs": [],
   "source": [
    "covid19_line_list_data['death'].value_counts()"
   ]
  },
  {
   "cell_type": "markdown",
   "metadata": {},
   "source": [
    "<font color='mediumblue'>Ok, so we have here the same problem as with `recovered`:</font>"
   ]
  },
  {
   "cell_type": "code",
   "execution_count": null,
   "metadata": {},
   "outputs": [],
   "source": [
    "filtered = covid19_line_list_data[['recovered','death']]\n",
    "columns_defs = [{'field':c} for c in filtered.columns]\n",
    "\n",
    "grid_options = {'columnDefs': columns_defs,\n",
    "               'enableSorting': True,\n",
    "               'enableFilter' :True,\n",
    "               'enableColResize': True,\n",
    "               'enableRangeSelection':True,'enableValue': True,\n",
    "                'statusBar': {\n",
    "        'statusPanels': [\n",
    "            { 'statusPanel': 'agTotalAndFilteredRowCountComponent', 'align': 'left' },\n",
    "            { 'statusPanel': 'agTotalRowCountComponent', 'align': 'center' },\n",
    "            { 'statusPanel': 'agFilteredRowCountComponent' },\n",
    "            { 'statusPanel': 'agSelectedRowCountComponent' },\n",
    "            { 'statusPanel': 'agAggregationComponent' }\n",
    "        ]\n",
    "    }\n",
    "               }\n",
    "\n",
    "g = Grid(grid_data = filtered,\n",
    "        theme = 'ag-theme-fresh',\n",
    "        quick_filter = True,\n",
    "        show_toggle_delete = False,\n",
    "        show_toggle_edit = False,\n",
    "        grid_options = grid_options,\n",
    "        index = True,\n",
    "        width=200,\n",
    "        height=500,\n",
    "        center = False, columns_fit='auto'\n",
    "        )\n",
    "\n",
    "g"
   ]
  },
  {
   "cell_type": "markdown",
   "metadata": {
    "ExecuteTime": {
     "end_time": "2020-03-27T16:03:52.601526Z",
     "start_time": "2020-03-27T16:03:52.593548Z"
    }
   },
   "source": [
    "<font color='mediumblue'>From the table above, it appears that every time that `recovered` is a date, `death` is zero, and vice-versa, so we could argue that for the `recovered` column, 1 means recovered, 0 means not recovered (with the same way of thinking for the `death` column). However,recovered and death are most of the time both zero so this is a tricky one. Let it stay the way it is for now, and I will just look at some other variables, rather than recovered and death because we just don't have data for these two features.</font>"
   ]
  },
  {
   "cell_type": "markdown",
   "metadata": {},
   "source": [
    "<font color='mediumblue'>Let's look at the symptoms:\n"
   ]
  },
  {
   "cell_type": "code",
   "execution_count": null,
   "metadata": {},
   "outputs": [],
   "source": [
    "filtered = covid19_line_list_data[['ReportingDate','country','gender', 'age', 'symptom_onset','hosp_visit_date','visiting_Wuhan',\n",
    "       'from_Wuhan','symptom']].reset_index()"
   ]
  },
  {
   "cell_type": "code",
   "execution_count": null,
   "metadata": {},
   "outputs": [],
   "source": [
    "filtered"
   ]
  },
  {
   "cell_type": "code",
   "execution_count": null,
   "metadata": {},
   "outputs": [],
   "source": [
    "filtered_grouped = filtered.groupby(['symptom','gender']).size().reset_index(name='counts')\n",
    "filtered_grouped_male = filtered_grouped[filtered_grouped['gender']=='male']\n",
    "filtered_grouped_female = filtered_grouped[filtered_grouped['gender']=='female']"
   ]
  },
  {
   "cell_type": "code",
   "execution_count": null,
   "metadata": {},
   "outputs": [],
   "source": [
    "columns_defs = [{'field':c} for c in filtered_grouped.columns]\n",
    "\n",
    "grid_options = {'columnDefs': columns_defs,\n",
    "               'enableSorting': True,\n",
    "               'enableFilter' :True,\n",
    "               'enableColResize': True,\n",
    "               'enableRangeSelection':True,'enableValue': True,\n",
    "                'statusBar': {\n",
    "        'statusPanels': [\n",
    "            { 'statusPanel': 'agTotalAndFilteredRowCountComponent', 'align': 'left' },\n",
    "            { 'statusPanel': 'agTotalRowCountComponent', 'align': 'center' },\n",
    "            { 'statusPanel': 'agFilteredRowCountComponent' },\n",
    "            { 'statusPanel': 'agSelectedRowCountComponent' },\n",
    "            { 'statusPanel': 'agAggregationComponent' }\n",
    "        ]\n",
    "    }\n",
    "               }\n",
    "\n",
    "g = Grid(grid_data = filtered_grouped,\n",
    "        theme = 'ag-theme-fresh',\n",
    "        quick_filter = True,\n",
    "        show_toggle_delete = False,\n",
    "        show_toggle_edit = False,\n",
    "        grid_options = grid_options,\n",
    "        index = True,\n",
    "        width=800,\n",
    "        height=500,\n",
    "        center = False, \n",
    "        \n",
    "        )\n",
    "\n",
    "g"
   ]
  },
  {
   "cell_type": "code",
   "execution_count": null,
   "metadata": {},
   "outputs": [],
   "source": [
    "fig=go.Figure()\n",
    "fig.add_trace(go.Bar(name='Male',x=filtered_grouped_male.symptom,y=filtered_grouped_male.counts,marker_color='lime'))\n",
    "fig.add_trace(go.Bar(name='Female',x=filtered_grouped_female.symptom,y=filtered_grouped_female.counts,marker_color='magenta'))\n",
    "fig.update_layout(barmode='group',template='simple_white',width=1300,height=900)\n",
    "fig.update_xaxes(title_text='Symptoms')\n",
    "fig.update_yaxes(title_text='Count')\n",
    "fig.show()"
   ]
  },
  {
   "cell_type": "markdown",
   "metadata": {},
   "source": [
    "<font color='mediumblue'>There are several symptoms, but the most common ones, as expected are fever and cough.It appears that males have more complains than females. There is also a typo for fever ('feve\\')"
   ]
  },
  {
   "cell_type": "markdown",
   "metadata": {},
   "source": [
    "<font color='mediumblue'> Let's include age:"
   ]
  },
  {
   "cell_type": "code",
   "execution_count": null,
   "metadata": {},
   "outputs": [],
   "source": [
    "print('Minimum age:',filtered['age'].min())\n",
    "print(\"maximum age:\", filtered['age'].max())"
   ]
  },
  {
   "cell_type": "code",
   "execution_count": null,
   "metadata": {},
   "outputs": [],
   "source": [
    "bins = [0,10,20,30,40,50,60,70,80,90,100]\n",
    "filtered['age_binned'] = pd.cut(filtered['age'],bins)\n",
    "filtered"
   ]
  },
  {
   "cell_type": "code",
   "execution_count": null,
   "metadata": {},
   "outputs": [],
   "source": [
    "filtered_grouped_age = filtered.groupby(['symptom','age_binned']).size().reset_index(name='counts')\n",
    "fig=go.Figure()\n",
    "fig = px.bar(filtered_grouped_age, x='symptom', y='counts',color='age_binned',width=1300,height=900,template='simple_white')\n",
    "\n",
    "fig.show()"
   ]
  },
  {
   "cell_type": "markdown",
   "metadata": {},
   "source": [
    "(to be continued)"
   ]
  },
  {
   "cell_type": "code",
   "execution_count": null,
   "metadata": {},
   "outputs": [],
   "source": []
  }
 ],
 "metadata": {
  "hide_input": false,
  "kernelspec": {
   "display_name": "Python 3",
   "language": "python",
   "name": "python3"
  },
  "language_info": {
   "codemirror_mode": {
    "name": "ipython",
    "version": 3
   },
   "file_extension": ".py",
   "mimetype": "text/x-python",
   "name": "python",
   "nbconvert_exporter": "python",
   "pygments_lexer": "ipython3",
   "version": "3.7.4"
  },
  "toc": {
   "base_numbering": 1,
   "nav_menu": {},
   "number_sections": false,
   "sideBar": false,
   "skip_h1_title": false,
   "title_cell": "Table of Contents",
   "title_sidebar": "Contents",
   "toc_cell": false,
   "toc_position": {},
   "toc_section_display": false,
   "toc_window_display": false
  },
  "varInspector": {
   "cols": {
    "lenName": 16,
    "lenType": 16,
    "lenVar": 40
   },
   "kernels_config": {
    "python": {
     "delete_cmd_postfix": "",
     "delete_cmd_prefix": "del ",
     "library": "var_list.py",
     "varRefreshCmd": "print(var_dic_list())"
    },
    "r": {
     "delete_cmd_postfix": ") ",
     "delete_cmd_prefix": "rm(",
     "library": "var_list.r",
     "varRefreshCmd": "cat(var_dic_list()) "
    }
   },
   "types_to_exclude": [
    "module",
    "function",
    "builtin_function_or_method",
    "instance",
    "_Feature"
   ],
   "window_display": false
  },
  "widgets": {
   "application/vnd.jupyter.widget-state+json": {
    "state": {},
    "version_major": 2,
    "version_minor": 0
   }
  }
 },
 "nbformat": 4,
 "nbformat_minor": 4
}
